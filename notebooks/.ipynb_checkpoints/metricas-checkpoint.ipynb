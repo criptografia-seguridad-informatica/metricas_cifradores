{
 "cells": [
  {
   "cell_type": "code",
   "execution_count": 5,
   "id": "8e2114c68f27ef0",
   "metadata": {
    "is_executing": true
   },
   "outputs": [],
   "source": [
    "from models.cifrador_homomorfico_parcial import CifradorHomomorficoParcial\n",
    "import time\n",
    "import random"
   ]
  },
  {
   "cell_type": "code",
   "execution_count": 6,
   "id": "3126c86e",
   "metadata": {},
   "outputs": [],
   "source": [
    "random.seed(42)\n",
    "random_numbers = [random.randint(1, 10000) for _ in range(1000)]"
   ]
  },
  {
   "cell_type": "code",
   "execution_count": 7,
   "id": "47d87809",
   "metadata": {},
   "outputs": [],
   "source": [
    "def wrapped(func):\n",
    "    def wrapper(*args, **kwargs):\n",
    "        start = time.time()\n",
    "        result = func(*args, **kwargs)\n",
    "        end = time.time()\n",
    "        elapsed = end - start\n",
    "        return result, elapsed\n",
    "    return wrapper\n",
    "\n",
    "@wrapped\n",
    "def encriptar(cifrador, numero):\n",
    "    cifrador.encriptar(numero)"
   ]
  },
  {
   "cell_type": "code",
   "execution_count": 8,
   "id": "eedb1708",
   "metadata": {},
   "outputs": [
    {
     "ename": "ModuleNotFoundError",
     "evalue": "No module named 'phe'",
     "output_type": "error",
     "traceback": [
      "\u001b[0;31m---------------------------------------------------------------------------\u001b[0m",
      "\u001b[0;31mModuleNotFoundError\u001b[0m                       Traceback (most recent call last)",
      "Cell \u001b[0;32mIn[8], line 1\u001b[0m\n\u001b[0;32m----> 1\u001b[0m cifrador_homomorfico_parcial \u001b[38;5;241m=\u001b[39m CifradorHomomorficoParcial()\n\u001b[1;32m      3\u001b[0m result, elapsed_time \u001b[38;5;241m=\u001b[39m encriptar(cifrador_homomorfico_parcial, numero)\n",
      "File \u001b[0;32m~/cripto/metricas/notebooks/models/cifrador_homomorfico_parcial.py:7\u001b[0m, in \u001b[0;36mCifradorHomomorficoParcial.__init__\u001b[0;34m(self)\u001b[0m\n\u001b[1;32m      6\u001b[0m \u001b[38;5;28;01mdef\u001b[39;00m \u001b[38;5;21m__init__\u001b[39m(\u001b[38;5;28mself\u001b[39m):\n\u001b[0;32m----> 7\u001b[0m     \u001b[38;5;28;01mfrom\u001b[39;00m \u001b[38;5;21;01mphe\u001b[39;00m \u001b[38;5;28;01mimport\u001b[39;00m paillier\n\u001b[1;32m      8\u001b[0m     \u001b[38;5;28;01mfrom\u001b[39;00m \u001b[38;5;21;01mphe\u001b[39;00m \u001b[38;5;28;01mimport\u001b[39;00m EncodedNumber\n\u001b[1;32m     10\u001b[0m     \u001b[38;5;28mself\u001b[39m\u001b[38;5;241m.\u001b[39m__encoder \u001b[38;5;241m=\u001b[39m EncodedNumber\n",
      "\u001b[0;31mModuleNotFoundError\u001b[0m: No module named 'phe'"
     ]
    }
   ],
   "source": [
    "cifrador_homomorfico_parcial = CifradorHomomorficoParcial()\n",
    "\n",
    "result, elapsed_time = encriptar(cifrador_homomorfico_parcial, 45)"
   ]
  },
  {
   "cell_type": "code",
   "execution_count": null,
   "id": "938df8d5",
   "metadata": {},
   "outputs": [],
   "source": []
  }
 ],
 "metadata": {
  "kernelspec": {
   "display_name": "Python 3 (ipykernel)",
   "language": "python",
   "name": "python3"
  },
  "language_info": {
   "codemirror_mode": {
    "name": "ipython",
    "version": 3
   },
   "file_extension": ".py",
   "mimetype": "text/x-python",
   "name": "python",
   "nbconvert_exporter": "python",
   "pygments_lexer": "ipython3",
   "version": "3.11.5"
  }
 },
 "nbformat": 4,
 "nbformat_minor": 5
}
